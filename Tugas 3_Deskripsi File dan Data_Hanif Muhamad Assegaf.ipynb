{
 "cells": [
  {
   "cell_type": "markdown",
   "id": "2cb39e66",
   "metadata": {},
   "source": [
    "# Deskripsi Data dan File"
   ]
  },
  {
   "cell_type": "markdown",
   "id": "255d1542",
   "metadata": {},
   "source": [
    "## Dataset yang digunakan\n",
    "Nama dataset : vgsales.csv<br>",
    "format dataset : CSV<br>",
    "Dimensi data : 16598 baris x 11 kolom<br>",
    "Ukuran file data : 1.35 MB<br>",
    "\n",
    "Deskripsi:<br>",
    "Dataset yang digunakan adalah mengenai penjualan video games yang berisi daftar video game dengan penjualan lebih dari 100.000 eksemplar. Data set ini diambil dari https://www.kaggle.com/datasets/gregorut/videogamesales/data"
   ]
  },
  {
   "cell_type": "markdown",
   "id": "a0e9e029",
   "metadata": {},
   "source": [
    "## Informasi yang ingin diketahui\n",
    "1. Range penjualan video games secara global.\n",
    "2. Range penjualan video games di setiap daerah.\n",
    "3. 10 game pertama dengan penjualan global paling banyak.\n",
    "4. 10 data pertama game dengan penjualan global paling sedikit.\n",
    "5. Distribusi frekuensi platform game.\n",
    "6. Distribusi frekuensi genre game.\n",
    "7. Jumlah salinan game yang terjual untuk setiap genrenya pada setiap region.\n",
    "8. 10 studio game dengan penjualan game paling sedikit.\n",
    "9. 10 studio game  dengan penjualan game terbanyak.\n",
    "10. Visualisasi data perbandingan jumlah Global Sales untuk sepuluh Publisher teratas.\n",
    "11. Visualisasi data penjualan suatu platform selama waktu tertentu.\n",
    "12. Visualisasi data pembagian penjualan game dari perusahaan platform tertentu.\n",
    "13. Visualisasi data mengenai relasi antara penjualan di kedua negara tertentu.\n",
    "14. Visualisasi data mengenai relasi antara penjualan global game dengan tahun penjualan game.\n",
    "15. Nilai korelasi antara jumlah penjualan di masing-masing negara."
   ]
  },
  {
   "cell_type": "markdown",
   "id": "ea6da904",
   "metadata": {},
   "source": [
    "## Import dan membaca data"
   ]
  },
  {
   "cell_type": "code",
   "execution_count": 3,
   "id": "3ad210c2",
   "metadata": {},
   "outputs": [],
   "source": [
    "import pandas as pd\n",
    "import matplotlib.pyplot as plt\n",
    "\n",
    "df = pd.read_csv(\"vgsales.csv\")"
   ]
  },
  {
   "cell_type": "markdown",
   "id": "d105af7a",
   "metadata": {},
   "source": [
    "## Mencari dimensi data"
   ]
  },
  {
   "cell_type": "markdown",
   "id": "66c98dcb",
   "metadata": {},
   "source": [
    "Ada 2 cara untuk mencari dimensi data, cara pertama adalah dengan cara print dataset secara keseluruhan lalu pada bagian paling akan tercantum berapa dimensinya. Sedangkan, cara kedua adalah dengan cara membuat program menghitung panjang baris dan kolom pada data."
   ]
  },
  {
   "cell_type": "code",
   "execution_count": 4,
   "id": "096d5193",
   "metadata": {},
   "outputs": [
    {
     "name": "stdout",
     "output_type": "stream",
     "text": [
      "        Rank                                              Name Platform  \\\n",
      "0          1                                        Wii Sports      Wii   \n",
      "1          2                                 Super Mario Bros.      NES   \n",
      "2          3                                    Mario Kart Wii      Wii   \n",
      "3          4                                 Wii Sports Resort      Wii   \n",
      "4          5                          Pokemon Red/Pokemon Blue       GB   \n",
      "...      ...                                               ...      ...   \n",
      "16593  16596                Woody Woodpecker in Crazy Castle 5      GBA   \n",
      "16594  16597                     Men in Black II: Alien Escape       GC   \n",
      "16595  16598  SCORE International Baja 1000: The Official Game      PS2   \n",
      "16596  16599                                        Know How 2       DS   \n",
      "16597  16600                                  Spirits & Spells      GBA   \n",
      "\n",
      "         Year         Genre   Publisher  NA_Sales  EU_Sales  JP_Sales  \\\n",
      "0      2006.0        Sports    Nintendo     41.49     29.02      3.77   \n",
      "1      1985.0      Platform    Nintendo     29.08      3.58      6.81   \n",
      "2      2008.0        Racing    Nintendo     15.85     12.88      3.79   \n",
      "3      2009.0        Sports    Nintendo     15.75     11.01      3.28   \n",
      "4      1996.0  Role-Playing    Nintendo     11.27      8.89     10.22   \n",
      "...       ...           ...         ...       ...       ...       ...   \n",
      "16593  2002.0      Platform       Kemco      0.01      0.00      0.00   \n",
      "16594  2003.0       Shooter  Infogrames      0.01      0.00      0.00   \n",
      "16595  2008.0        Racing  Activision      0.00      0.00      0.00   \n",
      "16596  2010.0        Puzzle    7G//AMES      0.00      0.01      0.00   \n",
      "16597  2003.0      Platform     Wanadoo      0.01      0.00      0.00   \n",
      "\n",
      "       Other_Sales  Global_Sales  \n",
      "0             8.46         82.74  \n",
      "1             0.77         40.24  \n",
      "2             3.31         35.82  \n",
      "3             2.96         33.00  \n",
      "4             1.00         31.37  \n",
      "...            ...           ...  \n",
      "16593         0.00          0.01  \n",
      "16594         0.00          0.01  \n",
      "16595         0.00          0.01  \n",
      "16596         0.00          0.01  \n",
      "16597         0.00          0.01  \n",
      "\n",
      "[16598 rows x 11 columns]\n"
     ]
    }
   ],
   "source": [
    "# Cara 1:\n",
    "print(df)"
   ]
  },
  {
   "cell_type": "markdown",
   "id": "0caf0a48",
   "metadata": {},
   "source": [
    "Dari output diatas, dapat kita ketahui bahwa dimensi dari dataset ini adalah 16598 baris x 11 kolom"
   ]
  },
  {
   "cell_type": "code",
   "execution_count": 9,
   "id": "00e2c9d9",
   "metadata": {},
   "outputs": [
    {
     "name": "stdout",
     "output_type": "stream",
     "text": [
      "Dimensi data: 16598 baris x 11 kolom\n"
     ]
    }
   ],
   "source": [
    "# Cara 2:\n",
    "panjang_baris = len(df)\n",
    "panjang_kolom = len(df.columns)\n",
    "print(\"Dimensi data:\", str(panjang_baris), \"baris x\", str(panjang_kolom), \"kolom\")"
   ]
  },
  {
   "cell_type": "markdown",
   "id": "e7c6ead6",
   "metadata": {},
   "source": [
    "## Mencari ukuran file data\n",
    "Selain dengan cara melihat pada properties data itu sendiri, adapun cara lain untuk mencari ukuran file data dengan cara menggunakan program"
   ]
  },
  {
   "cell_type": "code",
   "execution_count": 10,
   "id": "183addff",
   "metadata": {},
   "outputs": [
    {
     "name": "stdout",
     "output_type": "stream",
     "text": [
      "Ukuran file data tersebut sebesar 1355781 byte\n"
     ]
    }
   ],
   "source": [
    "import os\n",
    "statinfo = os.stat(\"vgsales.csv\")\n",
    "print(\"Ukuran file data tersebut sebesar\", statinfo.st_size, \"byte\")"
   ]
  },
  {
   "cell_type": "markdown",
   "id": "2ebbd595",
   "metadata": {},
   "source": [
    "Sehingga dapat kita dapatkan besar ukuran file data tersebut sebesar 1355781 byte (1.35MB)"
   ]
  }
 ],
 "metadata": {
  "kernelspec": {
   "display_name": "Python 3 (ipykernel)",
   "language": "python",
   "name": "python3"
  },
  "language_info": {
   "codemirror_mode": {
    "name": "ipython",
    "version": 3
   },
   "file_extension": ".py",
   "mimetype": "text/x-python",
   "name": "python",
   "nbconvert_exporter": "python",
   "pygments_lexer": "ipython3",
   "version": "3.11.5"
  }
 },
 "nbformat": 4,
 "nbformat_minor": 5
}
