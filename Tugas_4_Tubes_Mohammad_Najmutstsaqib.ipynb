{
  "nbformat": 4,
  "nbformat_minor": 0,
  "metadata": {
    "colab": {
      "provenance": [],
      "authorship_tag": "ABX9TyPY5KlqxO8PXqeApzW9NbDe",
      "include_colab_link": true
    },
    "kernelspec": {
      "name": "python3",
      "display_name": "Python 3"
    },
    "language_info": {
      "name": "python"
    }
  },
  "cells": [
    {
      "cell_type": "markdown",
      "metadata": {
        "id": "view-in-github",
        "colab_type": "text"
      },
      "source": [
        "<a href=\"https://colab.research.google.com/github/nexusprime-hak/Tubes-Pengkom-K-20-2023_2/blob/main/Tugas_4_Tubes_Mohammad_Najmutstsaqib.ipynb\" target=\"_parent\"><img src=\"https://colab.research.google.com/assets/colab-badge.svg\" alt=\"Open In Colab\"/></a>"
      ]
    },
    {
      "cell_type": "code",
      "source": [
        "import pandas as pd\n",
        "\n",
        "df = pd.read_csv(\"vgsales.csv\") print(df)"
      ],
      "metadata": {
        "id": "ArW00mLHTy6G"
      },
      "execution_count": null,
      "outputs": []
    },
    {
      "cell_type": "markdown",
      "source": [
        "1. **Jelaskan** atribut/kolom apa saja yang\tada di\tdalamnya,\tapa makna tiap atribut mengenai apa, dan\tjelaskan jenisnya (kategorikal atau kuantitatif,\tjika kategorikal,\tapakah nominal,\tbinary,\tdst.).\n",
        "  \n",
        "  **Jawab** :\n",
        "\n",
        "  Atribut yang ada pada data tersebut antara lain:\n",
        "\n",
        "  1. Name\n",
        "    \n",
        "    Nama game pada atribut *Name* memberikan identitas unik kepada setiap game dalam dataset. Penggunaan atribut kategorial nominal memungkinkan kita untuk mengelompokkan dan mengidentifikasi game berdasarkan nama atau jenis tertentu, sehingga memfasilitasi analisis dan pemahaman lebih lanjut terkait preferensi atau popularitas tertentu di antara game-game tersebut.\n",
        "\n",
        "  2. Platform\n",
        "    \n",
        "    Atribut *Platform* memberikan informasi tentang platform atau konsol yang digunakan untuk memainkan game tersebut. Dengan jenis atribut kategorikal nominal, kita dapat mengelompokkan game berdasarkan platform tertentu, memungkinkan pemahaman lebih lanjut tentang preferensi pengguna terhadap platform tertentu dan dampaknya pada penjualan.\n",
        "\n",
        "  3. Year\n",
        "    \n",
        "    Atribut *Year* memberikan informasi tentang tahun di mana suatu game dibuat atau dipublikasikan. Jenis atribut kuantitatif diskrit memungkinkan kita untuk melakukan analisis sejarah atau tren perubahan industri game dari waktu ke waktu, membantu pengguna untuk melihat evolusi dan dampak inovasi dalam industri tersebut.\n",
        "  4. Genre\n",
        "    \n",
        "    *Atribut Genre* memberikan wawasan tentang jenis permainan atau kategori tertentu, seperti horor, thriller, atau komedi. Penggunaan atribut kategorikal nominal memungkinkan kita untuk mengidentifikasi preferensi pemain dalam genre tertentu dan menganalisis keterkaitannya dengan penjualan, membantu dalam pengambilan keputusan bisnis.\n",
        "  5. Publisher\n",
        "    \n",
        "    *Publisher* pada atribut tersebut memberikan informasi tentang perusahaan yang mempublikasikan game tersebut. Dengan atribut kategorikal nominal, kita dapat menganalisis dampak reputasi penerbit pada kinerja penjualan game dan mendapatkan wawasan tentang hubungan antara penerbit dan keberhasilan suatu game.\n",
        "  6. NA_Sales, EU_Sales, JP_Sales, Other_Sales, and Global_Sales\n",
        "    \n",
        "    Atribut penjualan seperti *NA_Sales*, *EU_Sales*, *JP_Sales*, *Other_Sales*, dan *Global_Sales* memberikan data kuantitatif kontinyu tentang kinerja penjualan game di berbagai wilayah seperti NA di Amerika Utara, EU di Eropa, JP di Jepang, Other di selain ketiga kontinen atau negara tersebut, dan Global adalah jumlah total keseluruhan penjualan. Analisis terhadap atribut ini dapat memberikan pemahaman tentang pasar regional yang dominan dan kontribusi relatif dari setiap wilayah terhadap penjualan global.\n",
        "\n",
        "2. **Jelaskan** juga\tkarakteristik data\tuntuk tiap atribut,\tmisalnya terdiri atas nilai apa saja (pada\tatribut kategorikal),\tatau berapa range nilai datanya (pada\tatribut kuantitatif),\tberapa persen data yang\tkosong,\tdll.\n",
        "\n",
        "  • Untuk setiap karakteristik data\tyang\tdibuat,\ttuliskan bahasa\n",
        "  pemrograman/spreadsheet\ttool\tuntuk mendapatkannya,\tmisalnya dengan\n",
        "  melakukan sorting,\tmencari nilai minimum/maksimum,\tdll.\n",
        "\n",
        "  Jawab:\n",
        "  \n",
        "  Pertanyaan pada nomor dua ini akan dijelaskan pada kode dibawah"
      ],
      "metadata": {
        "id": "OgJKqXCwTspK"
      }
    },
    {
      "cell_type": "code",
      "execution_count": null,
      "metadata": {
        "colab": {
          "base_uri": "https://localhost:8080/"
        },
        "id": "m9wQvNGHw27q",
        "outputId": "38b7fbef-6354-49b2-c374-b2d6390cded8"
      },
      "outputs": [
        {
          "output_type": "stream",
          "name": "stdout",
          "text": [
            "0                                              Wii Sports\n",
            "1                                       Super Mario Bros.\n",
            "2                                          Mario Kart Wii\n",
            "3                                       Wii Sports Resort\n",
            "4                                Pokemon Red/Pokemon Blue\n",
            "                               ...                       \n",
            "16593                  Woody Woodpecker in Crazy Castle 5\n",
            "16594                       Men in Black II: Alien Escape\n",
            "16595    SCORE International Baja 1000: The Official Game\n",
            "16596                                          Know How 2\n",
            "16597                                    Spirits & Spells\n",
            "Name: Name, Length: 16598, dtype: object\n"
          ]
        }
      ],
      "source": [
        "nama = df[\"Name\"]\n",
        "print(nama)"
      ]
    },
    {
      "cell_type": "markdown",
      "source": [
        "Kode diatas menjabarkan tentang nama *game* yang ada pada data tersebut."
      ],
      "metadata": {
        "id": "4LUj1V9HBtUA"
      }
    },
    {
      "cell_type": "code",
      "source": [
        "no_name = df[df[\"Name\"].isna()]\n",
        "print(\"Tidak ada nama yang tidak terdaftar\") if len(no_name) == 0 else print(f\"Terdapat {(len(no_name)/len(df))*100} % data nama yang tidak terdaftar dari data yang ada\")"
      ],
      "metadata": {
        "colab": {
          "base_uri": "https://localhost:8080/"
        },
        "id": "6WUURsBgMTCK",
        "outputId": "98ba3c07-572e-4189-83d2-1c6be45147e2"
      },
      "execution_count": null,
      "outputs": [
        {
          "output_type": "stream",
          "name": "stdout",
          "text": [
            "Tidak ada nama yang tidak terdaftar\n"
          ]
        }
      ]
    },
    {
      "cell_type": "markdown",
      "source": [
        "Kode diatas menjelaskan mengenai persentase data nama yang tidak terdaftar pada data diatas."
      ],
      "metadata": {
        "id": "jbV5o3lINdQn"
      }
    },
    {
      "cell_type": "code",
      "source": [
        "platform = df[\"Platform\"].value_counts()\n",
        "print(platform)"
      ],
      "metadata": {
        "colab": {
          "base_uri": "https://localhost:8080/"
        },
        "id": "eP21TIw-Cjtc",
        "outputId": "e7a45b24-4342-4d9f-8cf4-50b0f181ade4"
      },
      "execution_count": null,
      "outputs": [
        {
          "output_type": "stream",
          "name": "stdout",
          "text": [
            "DS      2163\n",
            "PS2     2161\n",
            "PS3     1329\n",
            "Wii     1325\n",
            "X360    1265\n",
            "PSP     1213\n",
            "PS      1196\n",
            "PC       960\n",
            "XB       824\n",
            "GBA      822\n",
            "GC       556\n",
            "3DS      509\n",
            "PSV      413\n",
            "PS4      336\n",
            "N64      319\n",
            "SNES     239\n",
            "XOne     213\n",
            "SAT      173\n",
            "WiiU     143\n",
            "2600     133\n",
            "NES       98\n",
            "GB        98\n",
            "DC        52\n",
            "GEN       27\n",
            "NG        12\n",
            "SCD        6\n",
            "WS         6\n",
            "3DO        3\n",
            "TG16       2\n",
            "GG         1\n",
            "PCFX       1\n",
            "Name: Platform, dtype: int64\n"
          ]
        }
      ]
    },
    {
      "cell_type": "markdown",
      "source": [
        "Kode diatas menjelaskan mengenai platform apa saja yang ada pada data dan juga jumlah dari platform yang digunakan pada data tersebut."
      ],
      "metadata": {
        "id": "2r3Vt-oLG0tp"
      }
    },
    {
      "cell_type": "code",
      "source": [
        "no_platform = df[df[\"Platform\"].isna()]\n",
        "print(\"Tidak ada platform yang tidak terdaftar\") if len(no_platform) == 0 else print(f\"Terdapat {(len(no_platform)/len(df))*100} % data platform yang tidak terdaftar dari data yang ada\")"
      ],
      "metadata": {
        "colab": {
          "base_uri": "https://localhost:8080/"
        },
        "id": "y2gzs6KON4Ls",
        "outputId": "d7f461c9-efbe-49c4-85dd-2a94595ec0ab"
      },
      "execution_count": null,
      "outputs": [
        {
          "output_type": "stream",
          "name": "stdout",
          "text": [
            "Tidak ada platform yang tidak terdaftar\n"
          ]
        }
      ]
    },
    {
      "cell_type": "markdown",
      "source": [
        "Kode diatas menjelaskan mengenai persentase data platform yang tidak terdaftar pada data diatas."
      ],
      "metadata": {
        "id": "BtpQOS_-OWzv"
      }
    },
    {
      "cell_type": "code",
      "source": [
        "minimum,maximum = (df[\"Year\"].min(),df[\"Year\"].max())\n",
        "int_year = df[\"Year\"].value_counts().sort_index()\n",
        "int_year.index = int_year.index.astype(int)\n",
        "year = int_year\n",
        "print(f\"Tahun publikasi pada data diatas antara tahun {int(minimum)} sampai tahun {int(maximum)}.\\n\")\n",
        "print(\"Dibawah ini merupakan jumlah game berdasarkan tahun publikasinya:\\n\")\n",
        "print(year)\n"
      ],
      "metadata": {
        "colab": {
          "base_uri": "https://localhost:8080/"
        },
        "id": "xQRZmAZWHlnp",
        "outputId": "ee87509d-d5db-4712-d325-bf6f49dbcec9"
      },
      "execution_count": null,
      "outputs": [
        {
          "output_type": "stream",
          "name": "stdout",
          "text": [
            "Tahun publikasi pada data diatas antara tahun 1980 sampai tahun 2020.\n",
            "\n",
            "Dibawah ini merupakan jumlah game berdasarkan tahun publikasinya:\n",
            "\n",
            "1980       9\n",
            "1981      46\n",
            "1982      36\n",
            "1983      17\n",
            "1984      14\n",
            "1985      14\n",
            "1986      21\n",
            "1987      16\n",
            "1988      15\n",
            "1989      17\n",
            "1990      16\n",
            "1991      41\n",
            "1992      43\n",
            "1993      60\n",
            "1994     121\n",
            "1995     219\n",
            "1996     263\n",
            "1997     289\n",
            "1998     379\n",
            "1999     338\n",
            "2000     349\n",
            "2001     482\n",
            "2002     829\n",
            "2003     775\n",
            "2004     763\n",
            "2005     941\n",
            "2006    1008\n",
            "2007    1202\n",
            "2008    1428\n",
            "2009    1431\n",
            "2010    1259\n",
            "2011    1139\n",
            "2012     657\n",
            "2013     546\n",
            "2014     582\n",
            "2015     614\n",
            "2016     344\n",
            "2017       3\n",
            "2020       1\n",
            "Name: Year, dtype: int64\n"
          ]
        }
      ]
    },
    {
      "cell_type": "code",
      "source": [
        "no_year = df[df[\"Year\"].isna()]\n",
        "print(\"Tidak ada tahun yang tidak terdaftar\") if len(no_year) == 0 else print(f\"Terdapat {(len(no_year)/len(df))*100} % data tahun yang tidak terdaftar dari data yang ada\")"
      ],
      "metadata": {
        "colab": {
          "base_uri": "https://localhost:8080/"
        },
        "id": "_FD5V04POtk8",
        "outputId": "96fcefd0-9eca-4042-d9ee-5cc7b48d8e93"
      },
      "execution_count": null,
      "outputs": [
        {
          "output_type": "stream",
          "name": "stdout",
          "text": [
            "Terdapat 1.6327268345583803 % data tahun yang tidak terdaftar dari data yang ada\n"
          ]
        }
      ]
    },
    {
      "cell_type": "markdown",
      "source": [
        "Kode diatas menjelaskan mengenai persentase data tahun yang tidak terdaftar pada data diatas."
      ],
      "metadata": {
        "id": "C592G8fVU2xR"
      }
    },
    {
      "cell_type": "code",
      "source": [
        "genre = df[\"Genre\"].value_counts().index\n",
        "print(f\"Genre game pada data antara lain: {', '.join(genre[:len(genre) - 1])}, dan {genre[len(genre)-1]}.\")"
      ],
      "metadata": {
        "colab": {
          "base_uri": "https://localhost:8080/"
        },
        "id": "CqlPtmq8Sust",
        "outputId": "78d592d0-129b-4aed-b3b9-f73c691b59ed"
      },
      "execution_count": null,
      "outputs": [
        {
          "output_type": "stream",
          "name": "stdout",
          "text": [
            "Genre game pada data antara lain: Action, Sports, Misc, Role-Playing, Shooter, Adventure, Racing, Platform, Simulation, Fighting, Strategy, dan Puzzle.\n"
          ]
        }
      ]
    },
    {
      "cell_type": "markdown",
      "source": [
        "Kode diatas menjelaskan mengenai genre apa saja yang ada pada data tersebut."
      ],
      "metadata": {
        "id": "fUse9-CXU8wS"
      }
    },
    {
      "cell_type": "code",
      "source": [
        "no_genre = df[df[\"Genre\"].isna()]\n",
        "print(\"Tidak ada genre yang tidak terdaftar\") if len(no_genre) == 0 else print(f\"Terdapat {(len(no_genre)/len(df))*100} % data genre yang tidak terdaftar dari data yang ada\")"
      ],
      "metadata": {
        "colab": {
          "base_uri": "https://localhost:8080/"
        },
        "id": "mrmXM6gQVDrs",
        "outputId": "2982ffc6-b89c-4fb3-c7fb-89242ae83e1b"
      },
      "execution_count": null,
      "outputs": [
        {
          "output_type": "stream",
          "name": "stdout",
          "text": [
            "Tidak ada genre yang tidak terdaftar\n"
          ]
        }
      ]
    },
    {
      "cell_type": "markdown",
      "source": [
        "Kode diatas menjelaskan mengenai persentase data genre yang tidak terdaftar pada data diatas."
      ],
      "metadata": {
        "id": "XGOGFyhYVe--"
      }
    },
    {
      "cell_type": "code",
      "source": [
        "publisher = df[\"Publisher\"].value_counts()\n",
        "print(publisher)"
      ],
      "metadata": {
        "colab": {
          "base_uri": "https://localhost:8080/"
        },
        "id": "0_kGkBepV3yk",
        "outputId": "af54b954-1c9d-4110-e5fd-2858f6e13350"
      },
      "execution_count": null,
      "outputs": [
        {
          "output_type": "stream",
          "name": "stdout",
          "text": [
            "Electronic Arts                 1351\n",
            "Activision                       975\n",
            "Namco Bandai Games               932\n",
            "Ubisoft                          921\n",
            "Konami Digital Entertainment     832\n",
            "                                ... \n",
            "Warp                               1\n",
            "New                                1\n",
            "Elite                              1\n",
            "Evolution Games                    1\n",
            "UIG Entertainment                  1\n",
            "Name: Publisher, Length: 578, dtype: int64\n"
          ]
        }
      ]
    },
    {
      "cell_type": "markdown",
      "source": [
        "Kode diatas menjabarkan tentang data *publisher* dan jumlah game yang dihasilkan oleh *publisher* tersebut."
      ],
      "metadata": {
        "id": "plkL6ohhXiix"
      }
    },
    {
      "cell_type": "code",
      "source": [
        "no_publisher = df[df[\"Publisher\"].isna()]\n",
        "print(\"Tidak ada genre yang tidak terdaftar\") if len(no_publisher) == 0 else print(f\"Terdapat {(len(no_publisher)/len(df))*100} % data publisher yang tidak terdaftar dari data yang ada\")"
      ],
      "metadata": {
        "colab": {
          "base_uri": "https://localhost:8080/"
        },
        "id": "DDWzZwjnXyvc",
        "outputId": "d54c8989-b075-4a38-f9ae-45eb3c090a49"
      },
      "execution_count": null,
      "outputs": [
        {
          "output_type": "stream",
          "name": "stdout",
          "text": [
            "Terdapat 0.3494396915290999 % data publisher yang tidak terdaftar dari data yang ada\n"
          ]
        }
      ]
    },
    {
      "cell_type": "markdown",
      "source": [
        "Kode diatas menjelaskan mengenai persentase data *publisher* yang tidak terdaftar pada data diatas."
      ],
      "metadata": {
        "id": "Ub3rTd0UYufe"
      }
    },
    {
      "cell_type": "code",
      "source": [
        "min_na,max_na = (df[\"NA_Sales\"].min(),df[\"NA_Sales\"].max())\n",
        "print(f\"Range penjualan di daerah Amerika Utara adalah {(int(min_na*100000)):,} sampai {int(max_na*100000):,} copy\")"
      ],
      "metadata": {
        "colab": {
          "base_uri": "https://localhost:8080/"
        },
        "id": "vHyR53dGY_sg",
        "outputId": "7e867e44-4e2f-4a72-82fd-1133181e4916"
      },
      "execution_count": null,
      "outputs": [
        {
          "output_type": "stream",
          "name": "stdout",
          "text": [
            "Range penjualan di daerah Amerika Utara adalah 0 sampai 4,149,000 copy\n"
          ]
        }
      ]
    },
    {
      "cell_type": "markdown",
      "source": [
        "Kode diatas menjelaskan tentang range penjualan di Amerika Utara."
      ],
      "metadata": {
        "id": "jtN9fC4WdOkL"
      }
    },
    {
      "cell_type": "code",
      "source": [
        "no_na = df[df[\"NA_Sales\"].isna()]\n",
        "print(\"Tidak ada penjualan di Amerika Utara yang tidak terdaftar\") if len(no_na) == 0 else print(f\"Terdapat {(len(no_na)/len(df))*100} % data penjualan di Amerika Utara yang tidak terdaftar dari data yang ada\")"
      ],
      "metadata": {
        "colab": {
          "base_uri": "https://localhost:8080/"
        },
        "id": "C7Q-QZQzda_Y",
        "outputId": "45a9bd34-a94c-48fb-facb-1852b113c438"
      },
      "execution_count": null,
      "outputs": [
        {
          "output_type": "stream",
          "name": "stdout",
          "text": [
            "Tidak ada penjualan di Amerika Utara yang tidak terdaftar\n"
          ]
        }
      ]
    },
    {
      "cell_type": "markdown",
      "source": [
        "Kode diatas menjelaskan mengenai persentase data penjualan di Amerika Utara yang tidak terdaftar pada data diatas."
      ],
      "metadata": {
        "id": "QXNC_SLOd1qC"
      }
    },
    {
      "cell_type": "code",
      "source": [
        "min_eu,max_eu = (df[\"EU_Sales\"].min(),df[\"EU_Sales\"].max())\n",
        "print(f\"Range penjualan di daerah Eropa adalah {(int(min_eu*100000)):,} sampai {int(max_eu*100000):,} copy\")"
      ],
      "metadata": {
        "colab": {
          "base_uri": "https://localhost:8080/"
        },
        "id": "1i7W7HyOeBf-",
        "outputId": "2971bba5-6935-4869-a147-458ae510c307"
      },
      "execution_count": null,
      "outputs": [
        {
          "output_type": "stream",
          "name": "stdout",
          "text": [
            "Range penjualan di daerah Eropa adalah 0 sampai 2,902,000 copy\n"
          ]
        }
      ]
    },
    {
      "cell_type": "markdown",
      "source": [
        "Kode diatas menjelaskan tentang range penjualan di Eropa."
      ],
      "metadata": {
        "id": "sTkl-eJ3eTMs"
      }
    },
    {
      "cell_type": "code",
      "source": [
        "no_eu = df[df[\"EU_Sales\"].isna()]\n",
        "print(\"Tidak ada penjualan di Eropa yang tidak terdaftar\") if len(no_eu) == 0 else print(f\"Terdapat {(len(no_eu)/len(df))*100} % data penjualan di Eropa yang tidak terdaftar dari data yang ada\")"
      ],
      "metadata": {
        "colab": {
          "base_uri": "https://localhost:8080/"
        },
        "id": "FspjS7pDeaMJ",
        "outputId": "77ce95fd-2585-489b-cccd-b37790426f0f"
      },
      "execution_count": null,
      "outputs": [
        {
          "output_type": "stream",
          "name": "stdout",
          "text": [
            "Tidak ada penjualan di Eropa yang tidak terdaftar\n"
          ]
        }
      ]
    },
    {
      "cell_type": "markdown",
      "source": [
        "Kode diatas menjelaskan mengenai persentase data penjualan di Eropa yang tidak terdaftar pada data diatas."
      ],
      "metadata": {
        "id": "5TM2oaI4eoF2"
      }
    },
    {
      "cell_type": "code",
      "source": [
        "min_jp,max_jp = (df[\"JP_Sales\"].min(),df[\"JP_Sales\"].max())\n",
        "print(f\"Range penjualan di daerah Jepang adalah {(int(min_jp*100000)):,} sampai {int(max_jp*100000):,} copy\")"
      ],
      "metadata": {
        "colab": {
          "base_uri": "https://localhost:8080/"
        },
        "id": "v9wLiaLtewDK",
        "outputId": "d8bb207d-124e-4625-9a5e-bae77129765c"
      },
      "execution_count": null,
      "outputs": [
        {
          "output_type": "stream",
          "name": "stdout",
          "text": [
            "Range penjualan di daerah Eropa adalah 0 sampai 1,022,000 copy\n"
          ]
        }
      ]
    },
    {
      "cell_type": "markdown",
      "source": [
        "Kode diatas menjelaskan tentang range penjualan di Jepang."
      ],
      "metadata": {
        "id": "3d2Jk630e9zM"
      }
    },
    {
      "cell_type": "code",
      "source": [
        "no_jp = df[df[\"JP_Sales\"].isna()]\n",
        "print(\"Tidak ada penjualan di Jepang yang tidak terdaftar\") if len(no_jp) == 0 else print(f\"Terdapat {(len(no_jp)/len(df))*100} % data penjualan di Jepang yang tidak terdaftar dari data yang ada\")"
      ],
      "metadata": {
        "colab": {
          "base_uri": "https://localhost:8080/"
        },
        "id": "mO9Ei-HXfEV8",
        "outputId": "43dd1862-ac51-411b-e9fd-3650aca9d1ea"
      },
      "execution_count": null,
      "outputs": [
        {
          "output_type": "stream",
          "name": "stdout",
          "text": [
            "Tidak ada penjualan di Jepang yang tidak terdaftar\n"
          ]
        }
      ]
    },
    {
      "cell_type": "markdown",
      "source": [
        "Kode diatas menjelaskan mengenai persentase data penjualan di Jepang yang tidak terdaftar pada data diatas."
      ],
      "metadata": {
        "id": "AHaZmCpjfSEQ"
      }
    },
    {
      "cell_type": "code",
      "source": [
        "min_Other,max_Other = (df[\"Other_Sales\"].min(),df[\"Other_Sales\"].max())\n",
        "print(f\"Range penjualan di daerah lainnya adalah {(int(min_Other*100000)):,} sampai {int(max_Other*100000):,} copy\")"
      ],
      "metadata": {
        "colab": {
          "base_uri": "https://localhost:8080/"
        },
        "id": "1Gi-wpiffqRU",
        "outputId": "a00b5f21-0bf0-464f-954c-795c609b69e9"
      },
      "execution_count": null,
      "outputs": [
        {
          "output_type": "stream",
          "name": "stdout",
          "text": [
            "Range penjualan di daerah lainnya adalah 0 sampai 1,057,000 copy\n"
          ]
        }
      ]
    },
    {
      "cell_type": "markdown",
      "source": [
        "Kode diatas menjelaskan tentang range penjualan di daerah lainnya."
      ],
      "metadata": {
        "id": "kG5EaxA3gCE4"
      }
    },
    {
      "cell_type": "code",
      "source": [
        "no_Other = df[df[\"Other_Sales\"].isna()]\n",
        "print(\"Tidak ada penjualan di daerah lainnya yang tidak terdaftar\") if len(no_Other) == 0 else print(f\"Terdapat {(len(no_Other)/len(df))*100} % data penjualan di daerah lainnya yang tidak terdaftar dari data yang ada\")"
      ],
      "metadata": {
        "colab": {
          "base_uri": "https://localhost:8080/"
        },
        "id": "cDM6JZbogKT2",
        "outputId": "370d6712-6762-4536-aa89-a4fc2fdc1a07"
      },
      "execution_count": null,
      "outputs": [
        {
          "output_type": "stream",
          "name": "stdout",
          "text": [
            "Tidak ada penjualan di daerah lainnya yang tidak terdaftar\n"
          ]
        }
      ]
    },
    {
      "cell_type": "markdown",
      "source": [
        "Kode diatas menjelaskan mengenai persentase data penjualan di daerah lainnya yang tidak terdaftar pada data diatas."
      ],
      "metadata": {
        "id": "FsVUXQFOgY6b"
      }
    },
    {
      "cell_type": "code",
      "source": [
        "min_Global,max_Global = (df[\"Global_Sales\"].min(),df[\"Global_Sales\"].max())\n",
        "print(f\"Range penjualan secara global adalah {(int(min_Global*100000)):,} sampai {int(max_Global*100000):,} copy\")"
      ],
      "metadata": {
        "colab": {
          "base_uri": "https://localhost:8080/"
        },
        "id": "2WmRI4-8giUe",
        "outputId": "9424e147-e308-4b48-dba2-f8d621a6cfae"
      },
      "execution_count": null,
      "outputs": [
        {
          "output_type": "stream",
          "name": "stdout",
          "text": [
            "Range penjualan secara keseluruhan adalah 1,000 sampai 8,273,999 copy\n"
          ]
        }
      ]
    },
    {
      "cell_type": "markdown",
      "source": [
        "Kode diatas menjelaskan tentang range penjualan secara global."
      ],
      "metadata": {
        "id": "_UJDcoWig2Db"
      }
    },
    {
      "cell_type": "code",
      "source": [
        "no_Global = df[df[\"Global_Sales\"].isna()]\n",
        "print(\"Tidak ada penjualan secara global yang tidak terdaftar\") if len(no_Global) == 0 else print(f\"Terdapat {(len(no_Global)/len(df))*100} % data penjualan secara global yang tidak terdaftar dari data yang ada\")"
      ],
      "metadata": {
        "colab": {
          "base_uri": "https://localhost:8080/"
        },
        "id": "5qfPZUQDg5uI",
        "outputId": "61b976c3-eb6c-423b-c72a-52a5e2867625"
      },
      "execution_count": null,
      "outputs": [
        {
          "output_type": "stream",
          "name": "stdout",
          "text": [
            "Tidak ada penjualan secara global yang tidak terdaftar\n"
          ]
        }
      ]
    },
    {
      "cell_type": "markdown",
      "source": [
        "Kode diatas menjelaskan mengenai persentase data penjualan secara global yang tidak terdaftar pada data diatas."
      ],
      "metadata": {
        "id": "VSpugwqLhFAh"
      }
    }
  ]
}